{
 "cells": [
  {
   "cell_type": "code",
   "execution_count": 1,
   "id": "3fbed2fe",
   "metadata": {},
   "outputs": [],
   "source": [
    "import pandas as pd\n",
    "import numpy as np\n",
    "import plotly.graph_objects as go\n",
    "import plotly.io as pio\n",
    "from genpeds import Admissions, Enrollment, Completion, Graduation\n",
    "from cfg import THEME\n",
    "\n",
    "pio.templates['THEME'] = THEME\n",
    "pio.templates.default='THEME'"
   ]
  },
  {
   "cell_type": "markdown",
   "id": "9c5f33d2",
   "metadata": {},
   "source": [
    "## **Use NCES IPEDS data with `genpeds`**"
   ]
  },
  {
   "cell_type": "markdown",
   "id": "e9006f9d",
   "metadata": {},
   "source": [
    "### **Admissions**"
   ]
  },
  {
   "cell_type": "markdown",
   "id": "0f9506ab",
   "metadata": {},
   "source": [
    "#### Load in 2023 admissions data"
   ]
  },
  {
   "cell_type": "code",
   "execution_count": 2,
   "id": "23ba6933",
   "metadata": {},
   "outputs": [],
   "source": [
    "adm = Admissions(year_range=[2022,2023]).run(see_progress=False, # DO NOT print download progress statements\n",
    "                                          merge_with_char=True, # MERGE with characteristics (e.g. address, zipcode)\n",
    "                                          rm_disk=True) # RM from storage after cleaning"
   ]
  },
  {
   "cell_type": "markdown",
   "id": "48a43d20",
   "metadata": {},
   "source": [
    "#### go.geoscatter"
   ]
  },
  {
   "cell_type": "code",
   "execution_count": 3,
   "id": "77f9c82b",
   "metadata": {},
   "outputs": [],
   "source": [
    "pio.renderers.default = 'browser'\n",
    "\n",
    "\n",
    "adm = adm.dropna(subset=['tot_enrolled', 'act_comp_50'])\n",
    "adm2023 = adm.query('act_comp_50 > 5').copy()\n",
    "\n",
    "fig_text = (\n",
    "    #'<span style=\"font-family: Georgia, serif; text-transform: none;\">' + \n",
    "    '<b>' + adm2023['name'] + '</b>' +\n",
    "    '<br>' + adm2023['city'] + ', ' + adm2023['state']  + \n",
    "    '<br><b>Median ACT Composite</b>: ' + adm2023['act_comp_50'].astype(str) \n",
    ")\n",
    "\n",
    "fig = go.Figure()\n",
    "fig.add_trace(go.Scattergeo(\n",
    "    locationmode='USA-states',\n",
    "    lon=adm2023['longitude'],\n",
    "    lat=adm2023['latitude'],\n",
    "    text=fig_text,\n",
    "    marker={\n",
    "        'color': adm2023['act_comp_50'],\n",
    "        'size' : np.log(adm2023['tot_enrolled']) * 2, \n",
    "        'sizemode': 'diameter'\n",
    "    }\n",
    "    \n",
    "))\n",
    "\n",
    "fig.update_layout(\n",
    "    title_text=#'<span style=\"font-family: Georgia, serif; font-size: 24px; color: #1E4A4A; text-transform: none; font-weight: bold;\">' \\\n",
    "    'Northeastern Schools have higher ACT scores</span>',\n",
    "    title={'subtitle': {'text': 'Median ACT Composite by School (2023)'}},\n",
    "    showlegend=True,\n",
    "    # geo={\n",
    "    #     'scope': 'usa',\n",
    "    #     'bgcolor': '#ffffff',\n",
    "    #     'landcolor': '#ffffff',\n",
    "    #     'subunitcolor': '#999999'\n",
    "    # }\n",
    ")\n",
    "fig.show()"
   ]
  }
 ],
 "metadata": {
  "kernelspec": {
   "display_name": "venv",
   "language": "python",
   "name": "python3"
  },
  "language_info": {
   "codemirror_mode": {
    "name": "ipython",
    "version": 3
   },
   "file_extension": ".py",
   "mimetype": "text/x-python",
   "name": "python",
   "nbconvert_exporter": "python",
   "pygments_lexer": "ipython3",
   "version": "3.13.3"
  }
 },
 "nbformat": 4,
 "nbformat_minor": 5
}
